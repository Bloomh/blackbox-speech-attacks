{
 "cells": [
  {
   "cell_type": "code",
   "execution_count": null,
   "metadata": {},
   "outputs": [],
   "source": [
    "import os\n",
    "import glob\n",
    "import pandas as pd\n",
    "import matplotlib.pyplot as plt\n",
    "import seaborn as sns\n",
    "\n",
    "# Directory containing batch attack results\n",
    "results_dir = 'batch_attack_results'\n",
    "\n",
    "# 1. List all summary and per-run CSVs\n",
    "all_csvs = glob.glob(os.path.join(results_dir, '*.csv'))\n",
    "summary_csvs = [f for f in all_csvs if 'results_tgt-' not in os.path.basename(f)]\n",
    "per_run_csvs = [f for f in all_csvs if 'results_tgt-' in os.path.basename(f)]"
   ]
  },
  {
   "cell_type": "code",
   "execution_count": null,
   "metadata": {},
   "outputs": [],
   "source": [
    "# combine all of the per_run_csvs into a single dataframe\n",
    "dfs = [pd.read_csv(f) for f in per_run_csvs]\n",
    "df_all = pd.concat(dfs, ignore_index=True)\n",
    "print(df_all.head())\n",
    "print(f\"Combined DataFrame shape: {df_all.shape}\")"
   ]
  },
  {
   "cell_type": "code",
   "execution_count": null,
   "metadata": {},
   "outputs": [],
   "source": [
    "# plot a histogram of the final Levenshtein distance for each attack\n",
    "print(df_all[0]['target_lev_dist'])"
   ]
  },
  {
   "cell_type": "code",
   "execution_count": null,
   "metadata": {},
   "outputs": [],
   "source": [
    "import ast\n",
    "import numpy as np\n",
    "import matplotlib.pyplot as plt\n",
    "\n",
    "# --- Target Loss ---\n",
    "loss_lists = [ast.literal_eval(x) for x in df_all[\"target_loss_hist\"].dropna()]\n",
    "max_len = max(len(lst) for lst in loss_lists)\n",
    "loss_array = np.full((len(loss_lists), max_len), np.nan)\n",
    "for i, lst in enumerate(loss_lists):\n",
    "    loss_array[i, :len(lst)] = lst\n",
    "mean_target_loss = np.nanmean(loss_array, axis=0)\n",
    "\n",
    "# --- Ensemble Loss ---\n",
    "ensemble_loss_lists = [ast.literal_eval(x) for x in df_all[\"ensemble_loss_hists\"].dropna()]\n",
    "# Flatten to shape: (runs, ensemble_models, steps)\n",
    "max_ens = max(len(run) for run in ensemble_loss_lists)\n",
    "max_steps = max(len(model) for run in ensemble_loss_lists for model in run)\n",
    "ens_loss_array = np.full((len(ensemble_loss_lists), max_ens, max_steps), np.nan)\n",
    "for i, run in enumerate(ensemble_loss_lists):\n",
    "    for j, model in enumerate(run):\n",
    "        ens_loss_array[i, j, :len(model)] = model\n",
    "# Mean over runs and ensemble models\n",
    "mean_ensemble_loss = np.nanmean(ens_loss_array, axis=(0,1))\n",
    "\n",
    "# --- Plot ---\n",
    "plt.figure(figsize=(8,5))\n",
    "plt.plot(mean_target_loss, marker='o', label='Mean Target Loss')\n",
    "plt.plot(mean_ensemble_loss, marker='s', label='Mean Ensemble Loss')\n",
    "plt.xlabel('PGD Iteration')\n",
    "plt.ylabel('Mean Loss')\n",
    "plt.title('Mean Loss at Each PGD Iteration (Target vs Ensemble)')\n",
    "plt.legend()\n",
    "plt.grid(True)\n",
    "plt.show()"
   ]
  },
  {
   "cell_type": "code",
   "execution_count": null,
   "metadata": {},
   "outputs": [],
   "source": [
    "# --- Target Lev Dist ---\n",
    "target_lev_dists = [ast.literal_eval(x) for x in df_all[\"target_lev_dists\"].dropna()]\n",
    "max_len = max(len(lst) for lst in target_lev_dists)\n",
    "target_lev_array = np.full((len(target_lev_dists), max_len), np.nan)\n",
    "for i, lst in enumerate(target_lev_dists):\n",
    "    target_lev_array[i, :len(lst)] = lst\n",
    "mean_target_lev = np.nanmean(target_lev_array, axis=0)\n",
    "\n",
    "# --- Ensemble Lev Dist ---\n",
    "ensemble_lev_dists = [ast.literal_eval(x) for x in df_all[\"ensemble_lev_dists\"].dropna()]\n",
    "# Flatten to shape: (runs, ensemble_models, steps)\n",
    "max_ens = max(len(run) for run in ensemble_lev_dists)\n",
    "max_steps = max(len(model) for run in ensemble_lev_dists for model in run)\n",
    "ens_lev_array = np.full((len(ensemble_lev_dists), max_ens, max_steps), np.nan)\n",
    "for i, run in enumerate(ensemble_lev_dists):\n",
    "    for j, model in enumerate(run):\n",
    "        ens_lev_array[i, j, :len(model)] = model\n",
    "# Mean over runs and ensemble models\n",
    "mean_ensemble_lev = np.nanmean(ens_lev_array, axis=(0,1))\n",
    "\n",
    "# --- Plot ---\n",
    "plt.figure(figsize=(8,5))\n",
    "plt.plot(mean_target_lev, marker='o', label='Mean Target Lev Dist')\n",
    "plt.plot(mean_ensemble_lev, marker='s', label='Mean Ensemble Lev Dist')\n",
    "plt.xlabel('PGD Iteration')\n",
    "plt.ylabel('Mean Lev Dist')\n",
    "plt.title('Mean Lev Dist at Each PGD Iteration (Target vs Ensemble)')\n",
    "plt.legend()\n",
    "plt.grid(True)\n",
    "plt.show()"
   ]
  },
  {
   "cell_type": "code",
   "execution_count": null,
   "metadata": {},
   "outputs": [],
   "source": []
  }
 ],
 "metadata": {
  "kernelspec": {
   "display_name": "venv",
   "language": "python",
   "name": "python3"
  },
  "language_info": {
   "codemirror_mode": {
    "name": "ipython",
    "version": 3
   },
   "file_extension": ".py",
   "mimetype": "text/x-python",
   "name": "python",
   "nbconvert_exporter": "python",
   "pygments_lexer": "ipython3",
   "version": "3.10.17"
  }
 },
 "nbformat": 4,
 "nbformat_minor": 2
}
